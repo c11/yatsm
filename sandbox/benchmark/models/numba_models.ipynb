{
 "cells": [
  {
   "cell_type": "markdown",
   "metadata": {},
   "source": [
    "# `scikit-learn` wrapper speed tests\n",
    "\n",
    "## Setup"
   ]
  },
  {
   "cell_type": "markdown",
   "metadata": {},
   "source": [
    "Imports"
   ]
  },
  {
   "cell_type": "code",
   "execution_count": 1,
   "metadata": {
    "collapsed": false
   },
   "outputs": [],
   "source": [
    "import numba as nb\n",
    "import numpy as np\n",
    "import sklearn.linear_model"
   ]
  },
  {
   "cell_type": "markdown",
   "metadata": {},
   "source": [
    "Create data"
   ]
  },
  {
   "cell_type": "code",
   "execution_count": 2,
   "metadata": {
    "collapsed": false
   },
   "outputs": [],
   "source": [
    "import patsy\n",
    "import yatsm\n",
    "\n",
    "cfg = yatsm.config_parser.parse_config_file('../../../examples/p022r049_example.yaml')\n",
    "df = yatsm.utils.csvfile_to_dataframe(cfg['dataset']['input_file'])\n",
    "\n",
    "Y = yatsm.reader.read_pixel_timeseries(df['filename'], 50, 50)"
   ]
  },
  {
   "cell_type": "code",
   "execution_count": 3,
   "metadata": {
    "collapsed": false
   },
   "outputs": [],
   "source": [
    "from yatsm.regression.transforms import harm\n",
    "\n",
    "model = '1 + x + harm(x, 1)'\n",
    "X = patsy.dmatrix(model, {'x': df['date']})"
   ]
  },
  {
   "cell_type": "code",
   "execution_count": 4,
   "metadata": {
    "collapsed": true
   },
   "outputs": [],
   "source": [
    "mask = np.in1d(Y[-1, :], [0, 1])\n",
    "\n",
    "Y = Y[:-1, mask]\n",
    "X = X[mask, :]\n",
    "\n",
    "y = Y[4, :]"
   ]
  },
  {
   "cell_type": "markdown",
   "metadata": {},
   "source": [
    "Fit model"
   ]
  },
  {
   "cell_type": "code",
   "execution_count": 5,
   "metadata": {
    "collapsed": false
   },
   "outputs": [],
   "source": [
    "model = sklearn.linear_model.LassoCV()"
   ]
  },
  {
   "cell_type": "code",
   "execution_count": 6,
   "metadata": {
    "collapsed": false
   },
   "outputs": [
    {
     "data": {
      "text/plain": [
       "LassoCV(alphas=None, copy_X=True, cv=None, eps=0.001, fit_intercept=True,\n",
       "    max_iter=1000, n_alphas=100, n_jobs=1, normalize=False, positive=False,\n",
       "    precompute='auto', random_state=None, selection='cyclic', tol=0.0001,\n",
       "    verbose=False)"
      ]
     },
     "execution_count": 6,
     "metadata": {},
     "output_type": "execute_result"
    }
   ],
   "source": [
    "model.fit(X, y)"
   ]
  },
  {
   "cell_type": "markdown",
   "metadata": {},
   "source": [
    "## Timings:\n",
    "\n",
    "### 1. prediction"
   ]
  },
  {
   "cell_type": "code",
   "execution_count": 62,
   "metadata": {
    "collapsed": false
   },
   "outputs": [
    {
     "name": "stdout",
     "output_type": "stream",
     "text": [
      "The slowest run took 6.11 times longer than the fastest. This could mean that an intermediate result is being cached \n",
      "100000 loops, best of 3: 17.7 µs per loop\n"
     ]
    }
   ],
   "source": [
    "%timeit model.predict(X)"
   ]
  },
  {
   "cell_type": "code",
   "execution_count": 63,
   "metadata": {
    "collapsed": true
   },
   "outputs": [],
   "source": [
    "def pred(X, coef, intercept):\n",
    "    return X.dot(coef) + intercept\n",
    "\n",
    "@nb.jit()\n",
    "def nb_pred(X, coef, intercept):\n",
    "    return X.dot(coef) + intercept"
   ]
  },
  {
   "cell_type": "code",
   "execution_count": 61,
   "metadata": {
    "collapsed": false
   },
   "outputs": [
    {
     "name": "stdout",
     "output_type": "stream",
     "text": [
      "The slowest run took 14.05 times longer than the fastest. This could mean that an intermediate result is being cached \n",
      "100000 loops, best of 3: 4.34 µs per loop\n"
     ]
    }
   ],
   "source": [
    "%timeit pred(X, model.coef_, model.intercept_)"
   ]
  },
  {
   "cell_type": "code",
   "execution_count": 60,
   "metadata": {
    "collapsed": false
   },
   "outputs": [
    {
     "name": "stdout",
     "output_type": "stream",
     "text": [
      "The slowest run took 17.61 times longer than the fastest. This could mean that an intermediate result is being cached \n",
      "100000 loops, best of 3: 4.53 µs per loop\n"
     ]
    }
   ],
   "source": [
    "%timeit nb_pred(X, model.coef_, model.intercept_)"
   ]
  },
  {
   "cell_type": "markdown",
   "metadata": {},
   "source": [
    "And they give the same result:"
   ]
  },
  {
   "cell_type": "code",
   "execution_count": 59,
   "metadata": {
    "collapsed": false
   },
   "outputs": [],
   "source": [
    "np.testing.assert_allclose(model.predict(X),\n",
    "                           pred(X, model.coef_, model.intercept_)) "
   ]
  },
  {
   "cell_type": "markdown",
   "metadata": {},
   "source": [
    "#### Conclusion: \n",
    "NumPy dot product is faster than `sklearn`'s predict method, but don't use Numba since Numba doesn't accelerate it"
   ]
  },
  {
   "cell_type": "markdown",
   "metadata": {},
   "source": [
    "### 2. RMSE"
   ]
  },
  {
   "cell_type": "code",
   "execution_count": 7,
   "metadata": {
    "collapsed": true
   },
   "outputs": [],
   "source": [
    "yhat = model.predict(X)"
   ]
  },
  {
   "cell_type": "code",
   "execution_count": 8,
   "metadata": {
    "collapsed": false
   },
   "outputs": [
    {
     "name": "stdout",
     "output_type": "stream",
     "text": [
      "The slowest run took 4.21 times longer than the fastest. This could mean that an intermediate result is being cached \n",
      "10000 loops, best of 3: 48 µs per loop\n"
     ]
    }
   ],
   "source": [
    "%timeit sklearn.metrics.mean_squared_error(y, yhat) ** 0.5"
   ]
  },
  {
   "cell_type": "code",
   "execution_count": 20,
   "metadata": {
    "collapsed": false
   },
   "outputs": [],
   "source": [
    "def rmse(y, yhat):\n",
    "    return ((y - yhat) ** 2).mean() ** 0.5\n",
    "\n",
    "@nb.jit()\n",
    "def nb_rmse(y, yhat):\n",
    "    return ((y - yhat) ** 2).mean() ** 0.5"
   ]
  },
  {
   "cell_type": "code",
   "execution_count": 21,
   "metadata": {
    "collapsed": false
   },
   "outputs": [
    {
     "name": "stdout",
     "output_type": "stream",
     "text": [
      "The slowest run took 7.27 times longer than the fastest. This could mean that an intermediate result is being cached \n",
      "100000 loops, best of 3: 7.15 µs per loop\n"
     ]
    }
   ],
   "source": [
    "%timeit rmse(y, yhat)"
   ]
  },
  {
   "cell_type": "code",
   "execution_count": 18,
   "metadata": {
    "collapsed": false
   },
   "outputs": [
    {
     "name": "stdout",
     "output_type": "stream",
     "text": [
      "The slowest run took 10.90 times longer than the fastest. This could mean that an intermediate result is being cached \n",
      "1000000 loops, best of 3: 743 ns per loop\n"
     ]
    }
   ],
   "source": [
    "%timeit nb_rmse(y, yhat)"
   ]
  },
  {
   "cell_type": "code",
   "execution_count": 17,
   "metadata": {
    "collapsed": true
   },
   "outputs": [],
   "source": [
    "np.testing.assert_allclose(sklearn.metrics.mean_squared_error(y, yhat) ** 0.5,\n",
    "                           nb_rmse(y, yhat))"
   ]
  },
  {
   "cell_type": "markdown",
   "metadata": {},
   "source": [
    "#### Conclusion:\n",
    "Numba does very well accelerating RMSE calculation as it can be run in `nopython` mode.\n",
    "\n",
    "Numba is 10x faster than NumPy solution and NumPy solution is 7x faster than `sklearn`."
   ]
  },
  {
   "cell_type": "markdown",
   "metadata": {},
   "source": [
    "### Dynamic RMSE"
   ]
  },
  {
   "cell_type": "markdown",
   "metadata": {},
   "source": [
    "Example code:\n",
    "``` python\n",
    "def _get_dynamic_rmse(self):\n",
    "    \"\"\" Return the dynamic RMSE for each model\n",
    "\n",
    "    Dynamic RMSE refers to the Root Mean Squared Error calculated using\n",
    "    `self.min_obs` number of observations closest in day of year to the\n",
    "    observation `self.consecutive` steps into the future. Goal is to\n",
    "    reduce false-positives during seasonal transitions (high variance in\n",
    "    the signal) while decreasing omission during stable times of year.\n",
    "\n",
    "    Returns:\n",
    "      np.ndarray: NumPy array containing dynamic RMSE of each tested model\n",
    "\n",
    "    \"\"\"\n",
    "    # Indices of closest observations based on DOY\n",
    "    i_doy = np.argsort(np.mod(\n",
    "        self.X[self.start:self.here, self.i_x] -\n",
    "        self.X[self.here + self.consecutive, self.i_x],\n",
    "        self.ndays))[:self.min_obs]\n",
    "\n",
    "    rmse = np.zeros(len(self.test_indices), np.float32)\n",
    "    for i_b, b in enumerate(self.test_indices):\n",
    "        m = self.models[b]\n",
    "        rmse[i_b] = np.sqrt(np.sum(\n",
    "            (self.Y[b, :].take(i_doy) -\n",
    "                m.predict(self.X.take(i_doy, axis=0))) ** 2)\n",
    "            / i_doy.size)\n",
    "\n",
    "    return rmse\n",
    "```"
   ]
  },
  {
   "cell_type": "code",
   "execution_count": 132,
   "metadata": {
    "collapsed": true
   },
   "outputs": [],
   "source": [
    "dates = X[:, 1].astype(np.uint32)\n",
    "today = dates[10]"
   ]
  },
  {
   "cell_type": "code",
   "execution_count": 158,
   "metadata": {
    "collapsed": true
   },
   "outputs": [],
   "source": [
    "from datetime import datetime as dt\n",
    "\n",
    "def dt_get_closest_doy(today, dates, n_obs):\n",
    "    \"\"\" Return `n_obs` dates with DOY closest to DOY of `today`\n",
    "    \n",
    "    Reference implementation using datetime to ensure correct date->DOY\n",
    "    \n",
    "    Args:\n",
    "        today (int): ordinal date for day in question\n",
    "        dates (np.ndarray): all ordinal dates\n",
    "        n_obs (int): number of dates to return\n",
    "        \n",
    "    Returns:\n",
    "        np.ndarray: `n_obs` indices of `dates` for observations \n",
    "            closest to `today`\n",
    "    \"\"\"\n",
    "    today_doy = dt.fromordinal(today).timetuple().tm_yday\n",
    "    dates_doy = np.array([dt.fromordinal(d).timetuple().tm_yday for d in dates])\n",
    "    \n",
    "    return np.argsort(np.abs(dates_doy - today_doy))[:n_obs]\n",
    "\n",
    "def np_get_closest_doy(today, dates, n_obs):\n",
    "    \"\"\" Return `n_obs` dates with DOY closest to DOY of `today`\n",
    "    \n",
    "    Approximation using 365.25 and modulo\n",
    "    \n",
    "    Args:\n",
    "        today (int): ordinal date for day in question\n",
    "        dates (np.ndarray): all ordinal dates\n",
    "        n_obs (int): number of dates to return\n",
    "        \n",
    "    Returns:\n",
    "        np.ndarray: `n_obs` indices of `dates` for observations \n",
    "            closest to `today`\n",
    "    \"\"\"\n",
    "    return np.argsort(np.mod(np.abs(dates - today), 365.25))[:n_obs]\n",
    "\n",
    "def zz_get_closest_doy(today, dates, n_obs):\n",
    "    \"\"\" Zhu's implementation\n",
    "    \n",
    "    Should be similar to YATSM implementation -- approximation using 365.25.\n",
    "    Not technically correct but hopefully faster\n",
    "    \"\"\"\n",
    "    d_diff = dates - today\n",
    "    return np.argsort(np.abs(np.round(d_diff / 365.25) * 365.25 - d_diff))[:n_obs]"
   ]
  },
  {
   "cell_type": "code",
   "execution_count": 143,
   "metadata": {
    "collapsed": false
   },
   "outputs": [
    {
     "data": {
      "text/plain": [
       "281"
      ]
     },
     "execution_count": 143,
     "metadata": {},
     "output_type": "execute_result"
    }
   ],
   "source": [
    "dt.fromordinal(today).timetuple().tm_yday"
   ]
  },
  {
   "cell_type": "code",
   "execution_count": 159,
   "metadata": {
    "collapsed": false
   },
   "outputs": [],
   "source": [
    "test_dt = dt_get_closest_doy(today, dates, 20)\n",
    "test_np = np_get_closest_doy(today, dates, 20)\n",
    "test_zz = zz_get_closest_doy(today, dates, 20)"
   ]
  },
  {
   "cell_type": "code",
   "execution_count": 137,
   "metadata": {
    "collapsed": true
   },
   "outputs": [],
   "source": [
    "def to_doy(dates):\n",
    "    return np.array([dt.fromordinal(d).timetuple().tm_yday for d in dates])"
   ]
  },
  {
   "cell_type": "code",
   "execution_count": 150,
   "metadata": {
    "collapsed": false
   },
   "outputs": [
    {
     "name": "stdout",
     "output_type": "stream",
     "text": [
      "[268, 269, 274, 276, 278, 281, 284, 285, 287, 288, 288, 290, 290, 290, 293, 295, 297, 298, 298, 301]\n"
     ]
    }
   ],
   "source": [
    "print(sorted(to_doy(dates[test_dt])))"
   ]
  },
  {
   "cell_type": "code",
   "execution_count": 151,
   "metadata": {
    "collapsed": false
   },
   "outputs": [
    {
     "name": "stdout",
     "output_type": "stream",
     "text": [
      "[73, 89, 281, 284, 285, 287, 288, 288, 290, 290, 290, 293, 295, 297, 298, 298, 301, 303, 304, 304]\n"
     ]
    }
   ],
   "source": [
    "print(sorted(to_doy(dates[test_np])))"
   ]
  },
  {
   "cell_type": "code",
   "execution_count": 149,
   "metadata": {
    "collapsed": false
   },
   "outputs": [
    {
     "name": "stdout",
     "output_type": "stream",
     "text": [
      "[57, 73, 268, 269, 274, 276, 278, 281, 284, 285, 287, 288, 288, 290, 290, 290, 293, 295, 297, 298]\n"
     ]
    }
   ],
   "source": [
    "print(sorted(to_doy(dates[test_zz])))"
   ]
  },
  {
   "cell_type": "code",
   "execution_count": 167,
   "metadata": {
    "collapsed": false
   },
   "outputs": [
    {
     "name": "stdout",
     "output_type": "stream",
     "text": [
      "1000 loops, best of 3: 278 µs per loop\n",
      "100000 loops, best of 3: 9.9 µs per loop\n",
      "100000 loops, best of 3: 14.2 µs per loop\n"
     ]
    }
   ],
   "source": [
    "%timeit test_dt = dt_get_closest_doy(today, dates, 20)\n",
    "%timeit test_np = np_get_closest_doy(today, dates, 20)\n",
    "%timeit test_zz = zz_get_closest_doy(today, dates, 20)"
   ]
  },
  {
   "cell_type": "code",
   "execution_count": 164,
   "metadata": {
    "collapsed": true
   },
   "outputs": [],
   "source": [
    "from datetime import datetime as dt\n",
    "\n",
    "@nb.jit\n",
    "def nb_dt_get_closest_doy(today, dates, n_obs):\n",
    "    \"\"\" Return `n_obs` dates with DOY closest to DOY of `today`\n",
    "    \n",
    "    Reference implementation using datetime to ensure correct date->DOY\n",
    "    \n",
    "    Args:\n",
    "        today (int): ordinal date for day in question\n",
    "        dates (np.ndarray): all ordinal dates\n",
    "        n_obs (int): number of dates to return\n",
    "        \n",
    "    Returns:\n",
    "        np.ndarray: `n_obs` indices of `dates` for observations \n",
    "            closest to `today`\n",
    "    \"\"\"\n",
    "    today_doy = dt.fromordinal(today).timetuple().tm_yday\n",
    "    dates_doy = np.empty_like(dates)\n",
    "    for i in range(len(dates)):\n",
    "        dates_doy[i] = dt.fromordinal(d).timetuple().tm_yday\n",
    "    \n",
    "    return np.argsort(np.abs(dates_doy - today_doy))[:n_obs]\n",
    "\n",
    "@nb.jit\n",
    "def nb_np_get_closest_doy(today, dates, n_obs):\n",
    "    \"\"\" Return `n_obs` dates with DOY closest to DOY of `today`\n",
    "    \n",
    "    Approximation using 365.25 and modulo\n",
    "    \n",
    "    Args:\n",
    "        today (int): ordinal date for day in question\n",
    "        dates (np.ndarray): all ordinal dates\n",
    "        n_obs (int): number of dates to return\n",
    "        \n",
    "    Returns:\n",
    "        np.ndarray: `n_obs` indices of `dates` for observations \n",
    "            closest to `today`\n",
    "    \"\"\"\n",
    "    return np.argsort(np.mod(np.abs(dates - today), 365.25))[:n_obs]\n",
    "\n",
    "@nb.jit\n",
    "def nb_zz_get_import numba as nb\n",
    "import numpy as np\n",
    "import sklearn.linear_modelclosest_doy(today, dates, n_obs):\n",
    "    \"\"\" Zhu's implementation\n",
    "    \n",
    "    Should be similar to YATSM implementation -- approximation using 365.25.\n",
    "    Not technically correct but hopefully faster\n",
    "    \"\"\"\n",
    "    d_diff = dates - today\n",
    "    return np.argsort(np.abs(np.round(d_diff / 365.25) * 365.25 - d_diff))[:n_obs]"
   ]
  },
  {
   "cell_type": "code",
   "execution_count": 175,
   "metadata": {
    "collapsed": true
   },
   "outputs": [],
   "source": [
    "from numba import uint8, uint16, uint32"
   ]
  },
  {
   "cell_type": "code",
   "execution_count": 216,
   "metadata": {
    "collapsed": true
   },
   "outputs": [],
   "source": [
    "@nb.njit()\n",
    "def partition(values, idxs, left, right):\n",
    "    \"\"\"\n",
    "    Partition method\n",
    "    \"\"\"\n",
    "\n",
    "    piv = values[idxs[left]]\n",
    "    i = left + 1\n",
    "    j = right\n",
    "\n",
    "    while True:\n",
    "        while i <= j and values[idxs[i]] <= piv:\n",
    "            i += 1\n",
    "        while j >= i and values[idxs[j]] >= piv:\n",
    "            j -= 1\n",
    "        if j <= i:\n",
    "            break\n",
    "\n",
    "        idxs[i], idxs[j] = idxs[j], idxs[i]\n",
    "\n",
    "    idxs[left], idxs[j] = idxs[j], idxs[left]\n",
    "\n",
    "    return j\n",
    "\n",
    "@nb.njit()\n",
    "def argsort1D(values):\n",
    "\n",
    "    idxs = np.arange(values.shape[0])\n",
    "\n",
    "    left = 0\n",
    "    right = values.shape[0] - 1\n",
    "\n",
    "    max_depth = np.int(right / 2)\n",
    "\n",
    "    ndx = 0\n",
    "\n",
    "    tmp = np.zeros((max_depth, 2), dtype=np.int64)\n",
    "\n",
    "    tmp[ndx, 0] = left\n",
    "    tmp[ndx, 1] = right\n",
    "\n",
    "    ndx = 1\n",
    "    while ndx > 0:\n",
    "\n",
    "        ndx -= 1\n",
    "        right = tmp[ndx, 1]\n",
    "        left = tmp[ndx, 0]\n",
    "\n",
    "        piv = partition(values, idxs, left, right)\n",
    "\n",
    "        if piv - 1 > left:\n",
    "            tmp[ndx, 0] = left\n",
    "            tmp[ndx, 1] = piv - 1\n",
    "            ndx += 1\n",
    "\n",
    "        if piv + 1 < right:\n",
    "            tmp[ndx, 0] = piv + 1\n",
    "            tmp[ndx, 1] = right\n",
    "            ndx += 1\n",
    "\n",
    "    return idxs"
   ]
  },
  {
   "cell_type": "code",
   "execution_count": 218,
   "metadata": {
    "collapsed": false
   },
   "outputs": [],
   "source": [
    "@nb.jit(uint16[:](uint32, uint16[:], uint8))\n",
    "def nb_np_get_closest_doy(today, dates, n_obs):\n",
    "    return argsort1D(np.fmod(np.abs(dates - today), 365.25))[:n_obs].astype(np.uint16)"
   ]
  },
  {
   "cell_type": "code",
   "execution_count": 193,
   "metadata": {
    "collapsed": false
   },
   "outputs": [
    {
     "data": {
      "text/plain": [
       "numpy.uint32"
      ]
     },
     "execution_count": 193,
     "metadata": {},
     "output_type": "execute_result"
    }
   ],
   "source": [
    "20"
   ]
  },
  {
   "cell_type": "code",
   "execution_count": 219,
   "metadata": {
    "collapsed": false
   },
   "outputs": [
    {
     "data": {
      "text/plain": [
       "dtype('uint16')"
      ]
     },
     "execution_count": 219,
     "metadata": {},
     "output_type": "execute_result"
    }
   ],
   "source": [
    "nb_np_get_closest_doy(today, dates, 20).dtype"
   ]
  },
  {
   "cell_type": "code",
   "execution_count": 220,
   "metadata": {
    "collapsed": false,
    "scrolled": false
   },
   "outputs": [
    {
     "name": "stdout",
     "output_type": "stream",
     "text": [
      "nb_np_get_closest_doy (uint32, array(uint16, 1d, A), uint8)\n",
      "--------------------------------------------------------------------------------\n",
      "# File: <ipython-input-218-c19cde3eedb9>\n",
      "# --- LINE 1 --- \n",
      "\n",
      "@nb.jit(uint16[:](uint32, uint16[:], uint8))\n",
      "\n",
      "# --- LINE 2 --- \n",
      "\n",
      "def nb_np_get_closest_doy(today, dates, n_obs):\n",
      "\n",
      "    # --- LINE 3 --- \n",
      "    # label 0\n",
      "    #   today = arg(0, name=today)  :: pyobject\n",
      "    #   dates = arg(1, name=dates)  :: pyobject\n",
      "    #   n_obs = arg(2, name=n_obs)  :: pyobject\n",
      "    #   $0.1 = global(argsort1D: CPUOverloaded(<function argsort1D at 0x7fbd282b1c08>))  :: pyobject\n",
      "    #   $0.2 = global(np: <module 'numpy' from '/home/ceholden/venv/lib/python2.7/site-packages/numpy/__init__.pyc'>)  :: pyobject\n",
      "    #   $0.3 = getattr(attr=fmod, value=$0.2)  :: pyobject\n",
      "    #   del $0.2\n",
      "    #   $0.4 = global(np: <module 'numpy' from '/home/ceholden/venv/lib/python2.7/site-packages/numpy/__init__.pyc'>)  :: pyobject\n",
      "    #   $0.5 = getattr(attr=abs, value=$0.4)  :: pyobject\n",
      "    #   del $0.4\n",
      "    #   $0.8 = dates - today  :: pyobject\n",
      "    #   del today\n",
      "    #   del dates\n",
      "    #   $0.9 = call $0.5($0.8)  :: pyobject\n",
      "    #   del $0.8\n",
      "    #   del $0.5\n",
      "    #   $const0.10 = const(float, 365.25)  :: pyobject\n",
      "    #   $0.11 = call $0.3($0.9, $const0.10)  :: pyobject\n",
      "    #   del $const0.10\n",
      "    #   del $0.9\n",
      "    #   del $0.3\n",
      "    #   $0.12 = call $0.1($0.11)  :: pyobject\n",
      "    #   del $0.11\n",
      "    #   del $0.1\n",
      "    #   $0.17 = const(NoneType, None)  :: pyobject\n",
      "    #   $0.15 = global(slice: <type 'slice'>)  :: pyobject\n",
      "    #   $0.16 = call $0.15($0.17, n_obs)  :: pyobject\n",
      "    #   del n_obs\n",
      "    #   del $0.17\n",
      "    #   del $0.15\n",
      "    #   $0.14 = getitem(index=$0.16, value=$0.12)  :: pyobject\n",
      "    #   del $0.16\n",
      "    #   del $0.12\n",
      "    #   $0.18 = getattr(attr=astype, value=$0.14)  :: pyobject\n",
      "    #   del $0.14\n",
      "    #   $0.19 = global(np: <module 'numpy' from '/home/ceholden/venv/lib/python2.7/site-packages/numpy/__init__.pyc'>)  :: pyobject\n",
      "    #   $0.20 = getattr(attr=uint16, value=$0.19)  :: pyobject\n",
      "    #   del $0.19\n",
      "    #   $0.21 = call $0.18($0.20)  :: pyobject\n",
      "    #   del $0.20\n",
      "    #   del $0.18\n",
      "    #   $0.22 = cast(value=$0.21)  :: pyobject\n",
      "    #   del $0.21\n",
      "    #   return $0.22\n",
      "\n",
      "    return argsort1D(np.fmod(np.abs(dates - today), 365.25))[:n_obs].astype(np.uint16)\n",
      "\n",
      "\n",
      "================================================================================\n"
     ]
    }
   ],
   "source": [
    "nb_np_get_closest_doy.inspect_types()"
   ]
  },
  {
   "cell_type": "code",
   "execution_count": 221,
   "metadata": {
    "collapsed": false
   },
   "outputs": [
    {
     "name": "stdout",
     "output_type": "stream",
     "text": [
      "1000 loops, best of 3: 243 µs per loop\n",
      "10000 loops, best of 3: 57.2 µs per loop\n",
      "The slowest run took 4.22 times longer than the fastest. This could mean that an intermediate result is being cached \n",
      "100000 loops, best of 3: 15.9 µs per loop\n"
     ]
    }
   ],
   "source": [
    "%timeit test_dt = nb_dt_get_closest_doy(today, dates, 20)\n",
    "%timeit test_np = nb_np_get_closest_doy(today, dates, 20)\n",
    "%timeit test_zz = nb_zz_get_closest_doy(today, dates, 20)"
   ]
  },
  {
   "cell_type": "markdown",
   "metadata": {},
   "source": [
    "## Patsy & Model Specification"
   ]
  },
  {
   "cell_type": "code",
   "execution_count": 77,
   "metadata": {
    "collapsed": false
   },
   "outputs": [],
   "source": [
    "np.argsortdef sim_lm(n, m):\n",
    "    return np.arange(n) * (m + np.random.rand(n))\n",
    "\n",
    "y, X_int = patsy.dmatrices('y ~ x1 + x2', {'y': sim_lm(n, 3), 'x1': sim_lm(n, 0.1), 'x2': sim_lm(n, 1.2)})\n",
    "X = X_int[:, 1:]"
   ]
  },
  {
   "cell_type": "code",
   "execution_count": 96,
   "metadata": {
    "collapsed": true
   },
   "outputs": [],
   "source": [
    "import matplotlib.pyplot as plt\n",
    "plt.style.use('ggplot')"
   ]
  },
  {
   "cell_type": "code",
   "execution_count": 97,
   "metadata": {
    "collapsed": true
   },
   "outputs": [],
   "source": [
    "yhat_int = sklearn.linear_model.Lasso(fit_intercept=False).fit(X_int, y).predict(X_int)\n",
    "yhat = sklearn.linear_model.Lasso().fit(X, y).predict(X)"
   ]
  },
  {
   "cell_type": "code",
   "execution_count": 104,
   "metadata": {
    "collapsed": false
   },
   "outputs": [
    {
     "data": {
      "application/javascript": [
       "/* Put everything inside the global mpl namespace */\n",
       "window.mpl = {};\n",
       "\n",
       "mpl.get_websocket_type = function() {\n",
       "    if (typeof(WebSocket) !== 'undefined') {\n",
       "        return WebSocket;\n",
       "    } else if (typeof(MozWebSocket) !== 'undefined') {\n",
       "        return MozWebSocket;\n",
       "    } else {\n",
       "        alert('Your browser does not have WebSocket support.' +\n",
       "              'Please try Chrome, Safari or Firefox ≥ 6. ' +\n",
       "              'Firefox 4 and 5 are also supported but you ' +\n",
       "              'have to enable WebSockets in about:config.');\n",
       "    };\n",
       "}\n",
       "\n",
       "mpl.figure = function(figure_id, websocket, ondownload, parent_element) {\n",
       "    this.id = figure_id;\n",
       "\n",
       "    this.ws = websocket;\n",
       "\n",
       "    this.supports_binary = (this.ws.binaryType != undefined);\n",
       "\n",
       "    if (!this.supports_binary) {\n",
       "        var warnings = document.getElementById(\"mpl-warnings\");\n",
       "        if (warnings) {\n",
       "            warnings.style.display = 'block';\n",
       "            warnings.textContent = (\n",
       "                \"This browser does not support binary websocket messages. \" +\n",
       "                    \"Performance may be slow.\");\n",
       "        }\n",
       "    }\n",
       "\n",
       "    this.imageObj = new Image();\n",
       "\n",
       "    this.context = undefined;\n",
       "    this.message = undefined;\n",
       "    this.canvas = undefined;\n",
       "    this.rubberband_canvas = undefined;\n",
       "    this.rubberband_context = undefined;\n",
       "    this.format_dropdown = undefined;\n",
       "\n",
       "    this.image_mode = 'full';\n",
       "\n",
       "    this.root = $('<div/>');\n",
       "    this._root_extra_style(this.root)\n",
       "    this.root.attr('style', 'display: inline-block');\n",
       "\n",
       "    $(parent_element).append(this.root);\n",
       "\n",
       "    this._init_header(this);\n",
       "    this._init_canvas(this);\n",
       "    this._init_toolbar(this);\n",
       "\n",
       "    var fig = this;\n",
       "\n",
       "    this.waiting = false;\n",
       "\n",
       "    this.ws.onopen =  function () {\n",
       "            fig.send_message(\"supports_binary\", {value: fig.supports_binary});\n",
       "            fig.send_message(\"send_image_mode\", {});\n",
       "            fig.send_message(\"refresh\", {});\n",
       "        }\n",
       "\n",
       "    this.imageObj.onload = function() {\n",
       "            if (fig.image_mode == 'full') {\n",
       "                // Full images could contain transparency (where diff images\n",
       "                // almost always do), so we need to clear the canvas so that\n",
       "                // there is no ghosting.\n",
       "                fig.context.clearRect(0, 0, fig.canvas.width, fig.canvas.height);\n",
       "            }\n",
       "            fig.context.drawImage(fig.imageObj, 0, 0);\n",
       "            fig.waiting = false;\n",
       "        };\n",
       "\n",
       "    this.imageObj.onunload = function() {\n",
       "        this.ws.close();\n",
       "    }\n",
       "\n",
       "    this.ws.onmessage = this._make_on_message_function(this);\n",
       "\n",
       "    this.ondownload = ondownload;\n",
       "}\n",
       "\n",
       "mpl.figure.prototype._init_header = function() {\n",
       "    var titlebar = $(\n",
       "        '<div class=\"ui-dialog-titlebar ui-widget-header ui-corner-all ' +\n",
       "        'ui-helper-clearfix\"/>');\n",
       "    var titletext = $(\n",
       "        '<div class=\"ui-dialog-title\" style=\"width: 100%; ' +\n",
       "        'text-align: center; padding: 3px;\"/>');\n",
       "    titlebar.append(titletext)\n",
       "    this.root.append(titlebar);\n",
       "    this.header = titletext[0];\n",
       "}\n",
       "\n",
       "\n",
       "\n",
       "mpl.figure.prototype._canvas_extra_style = function(canvas_div) {\n",
       "\n",
       "}\n",
       "\n",
       "\n",
       "mpl.figure.prototype._root_extra_style = function(canvas_div) {\n",
       "\n",
       "}\n",
       "\n",
       "mpl.figure.prototype._init_canvas = function() {\n",
       "    var fig = this;\n",
       "\n",
       "    var canvas_div = $('<div/>');\n",
       "\n",
       "    canvas_div.attr('style', 'position: relative; clear: both; outline: 0');\n",
       "\n",
       "    function canvas_keyboard_event(event) {\n",
       "        return fig.key_event(event, event['data']);\n",
       "    }\n",
       "\n",
       "    canvas_div.keydown('key_press', canvas_keyboard_event);\n",
       "    canvas_div.keyup('key_release', canvas_keyboard_event);\n",
       "    this.canvas_div = canvas_div\n",
       "    this._canvas_extra_style(canvas_div)\n",
       "    this.root.append(canvas_div);\n",
       "\n",
       "    var canvas = $('<canvas/>');\n",
       "    canvas.addClass('mpl-canvas');\n",
       "    canvas.attr('style', \"left: 0; top: 0; z-index: 0; outline: 0\")\n",
       "\n",
       "    this.canvas = canvas[0];\n",
       "    this.context = canvas[0].getContext(\"2d\");\n",
       "\n",
       "    var rubberband = $('<canvas/>');\n",
       "    rubberband.attr('style', \"position: absolute; left: 0; top: 0; z-index: 1;\")\n",
       "\n",
       "    var pass_mouse_events = true;\n",
       "\n",
       "    canvas_div.resizable({\n",
       "        start: function(event, ui) {\n",
       "            pass_mouse_events = false;\n",
       "        },\n",
       "        resize: function(event, ui) {\n",
       "            fig.request_resize(ui.size.width, ui.size.height);\n",
       "        },\n",
       "        stop: function(event, ui) {\n",
       "            pass_mouse_events = true;\n",
       "            fig.request_resize(ui.size.width, ui.size.height);\n",
       "        },\n",
       "    });\n",
       "\n",
       "    function mouse_event_fn(event) {\n",
       "        if (pass_mouse_events)\n",
       "            return fig.mouse_event(event, event['data']);\n",
       "    }\n",
       "\n",
       "    rubberband.mousedown('button_press', mouse_event_fn);\n",
       "    rubberband.mouseup('button_release', mouse_event_fn);\n",
       "    // Throttle sequential mouse events to 1 every 20ms.\n",
       "    rubberband.mousemove('motion_notify', mouse_event_fn);\n",
       "\n",
       "    rubberband.mouseenter('figure_enter', mouse_event_fn);\n",
       "    rubberband.mouseleave('figure_leave', mouse_event_fn);\n",
       "\n",
       "    canvas_div.on(\"wheel\", function (event) {\n",
       "        event = event.originalEvent;\n",
       "        event['data'] = 'scroll'\n",
       "        if (event.deltaY < 0) {\n",
       "            event.step = 1;\n",
       "        } else {\n",
       "            event.step = -1;\n",
       "        }\n",
       "        mouse_event_fn(event);\n",
       "    });\n",
       "\n",
       "    canvas_div.append(canvas);\n",
       "    canvas_div.append(rubberband);\n",
       "\n",
       "    this.rubberband = rubberband;\n",
       "    this.rubberband_canvas = rubberband[0];\n",
       "    this.rubberband_context = rubberband[0].getContext(\"2d\");\n",
       "    this.rubberband_context.strokeStyle = \"#000000\";\n",
       "\n",
       "    this._resize_canvas = function(width, height) {\n",
       "        // Keep the size of the canvas, canvas container, and rubber band\n",
       "        // canvas in synch.\n",
       "        canvas_div.css('width', width)\n",
       "        canvas_div.css('height', height)\n",
       "\n",
       "        canvas.attr('width', width);\n",
       "        canvas.attr('height', height);\n",
       "\n",
       "        rubberband.attr('width', width);\n",
       "        rubberband.attr('height', height);\n",
       "    }\n",
       "\n",
       "    // Set the figure to an initial 600x600px, this will subsequently be updated\n",
       "    // upon first draw.\n",
       "    this._resize_canvas(600, 600);\n",
       "\n",
       "    // Disable right mouse context menu.\n",
       "    $(this.rubberband_canvas).bind(\"contextmenu\",function(e){\n",
       "        return false;\n",
       "    });\n",
       "\n",
       "    function set_focus () {\n",
       "        canvas.focus();\n",
       "        canvas_div.focus();\n",
       "    }\n",
       "\n",
       "    window.setTimeout(set_focus, 100);\n",
       "}\n",
       "\n",
       "mpl.figure.prototype._init_toolbar = function() {\n",
       "    var fig = this;\n",
       "\n",
       "    var nav_element = $('<div/>')\n",
       "    nav_element.attr('style', 'width: 100%');\n",
       "    this.root.append(nav_element);\n",
       "\n",
       "    // Define a callback function for later on.\n",
       "    function toolbar_event(event) {\n",
       "        return fig.toolbar_button_onclick(event['data']);\n",
       "    }\n",
       "    function toolbar_mouse_event(event) {\n",
       "        return fig.toolbar_button_onmouseover(event['data']);\n",
       "    }\n",
       "\n",
       "    for(var toolbar_ind in mpl.toolbar_items) {\n",
       "        var name = mpl.toolbar_items[toolbar_ind][0];\n",
       "        var tooltip = mpl.toolbar_items[toolbar_ind][1];\n",
       "        var image = mpl.toolbar_items[toolbar_ind][2];\n",
       "        var method_name = mpl.toolbar_items[toolbar_ind][3];\n",
       "\n",
       "        if (!name) {\n",
       "            // put a spacer in here.\n",
       "            continue;\n",
       "        }\n",
       "        var button = $('<button/>');\n",
       "        button.addClass('ui-button ui-widget ui-state-default ui-corner-all ' +\n",
       "                        'ui-button-icon-only');\n",
       "        button.attr('role', 'button');\n",
       "        button.attr('aria-disabled', 'false');\n",
       "        button.click(method_name, toolbar_event);\n",
       "        button.mouseover(tooltip, toolbar_mouse_event);\n",
       "\n",
       "        var icon_img = $('<span/>');\n",
       "        icon_img.addClass('ui-button-icon-primary ui-icon');\n",
       "        icon_img.addClass(image);\n",
       "        icon_img.addClass('ui-corner-all');\n",
       "\n",
       "        var tooltip_span = $('<span/>');\n",
       "        tooltip_span.addClass('ui-button-text');\n",
       "        tooltip_span.html(tooltip);\n",
       "\n",
       "        button.append(icon_img);\n",
       "        button.append(tooltip_span);\n",
       "\n",
       "        nav_element.append(button);\n",
       "    }\n",
       "\n",
       "    var fmt_picker_span = $('<span/>');\n",
       "\n",
       "    var fmt_picker = $('<select/>');\n",
       "    fmt_picker.addClass('mpl-toolbar-option ui-widget ui-widget-content');\n",
       "    fmt_picker_span.append(fmt_picker);\n",
       "    nav_element.append(fmt_picker_span);\n",
       "    this.format_dropdown = fmt_picker[0];\n",
       "\n",
       "    for (var ind in mpl.extensions) {\n",
       "        var fmt = mpl.extensions[ind];\n",
       "        var option = $(\n",
       "            '<option/>', {selected: fmt === mpl.default_extension}).html(fmt);\n",
       "        fmt_picker.append(option)\n",
       "    }\n",
       "\n",
       "    // Add hover states to the ui-buttons\n",
       "    $( \".ui-button\" ).hover(\n",
       "        function() { $(this).addClass(\"ui-state-hover\");},\n",
       "        function() { $(this).removeClass(\"ui-state-hover\");}\n",
       "    );\n",
       "\n",
       "    var status_bar = $('<span class=\"mpl-message\"/>');\n",
       "    nav_element.append(status_bar);\n",
       "    this.message = status_bar[0];\n",
       "}\n",
       "\n",
       "mpl.figure.prototype.request_resize = function(x_pixels, y_pixels) {\n",
       "    // Request matplotlib to resize the figure. Matplotlib will then trigger a resize in the client,\n",
       "    // which will in turn request a refresh of the image.\n",
       "    this.send_message('resize', {'width': x_pixels, 'height': y_pixels});\n",
       "}\n",
       "\n",
       "mpl.figure.prototype.send_message = function(type, properties) {\n",
       "    properties['type'] = type;\n",
       "    properties['figure_id'] = this.id;\n",
       "    this.ws.send(JSON.stringify(properties));\n",
       "}\n",
       "\n",
       "mpl.figure.prototype.send_draw_message = function() {\n",
       "    if (!this.waiting) {\n",
       "        this.waiting = true;\n",
       "        this.ws.send(JSON.stringify({type: \"draw\", figure_id: this.id}));\n",
       "    }\n",
       "}\n",
       "\n",
       "\n",
       "mpl.figure.prototype.handle_save = function(fig, msg) {\n",
       "    var format_dropdown = fig.format_dropdown;\n",
       "    var format = format_dropdown.options[format_dropdown.selectedIndex].value;\n",
       "    fig.ondownload(fig, format);\n",
       "}\n",
       "\n",
       "\n",
       "mpl.figure.prototype.handle_resize = function(fig, msg) {\n",
       "    var size = msg['size'];\n",
       "    if (size[0] != fig.canvas.width || size[1] != fig.canvas.height) {\n",
       "        fig._resize_canvas(size[0], size[1]);\n",
       "        fig.send_message(\"refresh\", {});\n",
       "    };\n",
       "}\n",
       "\n",
       "mpl.figure.prototype.handle_rubberband = function(fig, msg) {\n",
       "    var x0 = msg['x0'];\n",
       "    var y0 = fig.canvas.height - msg['y0'];\n",
       "    var x1 = msg['x1'];\n",
       "    var y1 = fig.canvas.height - msg['y1'];\n",
       "    x0 = Math.floor(x0) + 0.5;\n",
       "    y0 = Math.floor(y0) + 0.5;\n",
       "    x1 = Math.floor(x1) + 0.5;\n",
       "    y1 = Math.floor(y1) + 0.5;\n",
       "    var min_x = Math.min(x0, x1);\n",
       "    var min_y = Math.min(y0, y1);\n",
       "    var width = Math.abs(x1 - x0);\n",
       "    var height = Math.abs(y1 - y0);\n",
       "\n",
       "    fig.rubberband_context.clearRect(\n",
       "        0, 0, fig.canvas.width, fig.canvas.height);\n",
       "\n",
       "    fig.rubberband_context.strokeRect(min_x, min_y, width, height);\n",
       "}\n",
       "\n",
       "mpl.figure.prototype.handle_figure_label = function(fig, msg) {\n",
       "    // Updates the figure title.\n",
       "    fig.header.textContent = msg['label'];\n",
       "}\n",
       "\n",
       "mpl.figure.prototype.handle_cursor = function(fig, msg) {\n",
       "    var cursor = msg['cursor'];\n",
       "    switch(cursor)\n",
       "    {\n",
       "    case 0:\n",
       "        cursor = 'pointer';\n",
       "        break;\n",
       "    case 1:\n",
       "        cursor = 'default';\n",
       "        break;\n",
       "    case 2:\n",
       "        cursor = 'crosshair';\n",
       "        break;\n",
       "    case 3:\n",
       "        cursor = 'move';\n",
       "        break;\n",
       "    }\n",
       "    fig.rubberband_canvas.style.cursor = cursor;\n",
       "}\n",
       "\n",
       "mpl.figure.prototype.handle_message = function(fig, msg) {\n",
       "    fig.message.textContent = msg['message'];\n",
       "}\n",
       "\n",
       "mpl.figure.prototype.handle_draw = function(fig, msg) {\n",
       "    // Request the server to send over a new figure.\n",
       "    fig.send_draw_message();\n",
       "}\n",
       "\n",
       "mpl.figure.prototype.handle_image_mode = function(fig, msg) {\n",
       "    fig.image_mode = msg['mode'];\n",
       "}\n",
       "\n",
       "mpl.figure.prototype.updated_canvas_event = function() {\n",
       "    // Called whenever the canvas gets updated.\n",
       "    this.send_message(\"ack\", {});\n",
       "}\n",
       "\n",
       "// A function to construct a web socket function for onmessage handling.\n",
       "// Called in the figure constructor.\n",
       "mpl.figure.prototype._make_on_message_function = function(fig) {\n",
       "    return function socket_on_message(evt) {\n",
       "        if (evt.data instanceof Blob) {\n",
       "            /* FIXME: We get \"Resource interpreted as Image but\n",
       "             * transferred with MIME type text/plain:\" errors on\n",
       "             * Chrome.  But how to set the MIME type?  It doesn't seem\n",
       "             * to be part of the websocket stream */\n",
       "            evt.data.type = \"image/png\";\n",
       "\n",
       "            /* Free the memory for the previous frames */\n",
       "            if (fig.imageObj.src) {\n",
       "                (window.URL || window.webkitURL).revokeObjectURL(\n",
       "                    fig.imageObj.src);\n",
       "            }\n",
       "\n",
       "            fig.imageObj.src = (window.URL || window.webkitURL).createObjectURL(\n",
       "                evt.data);\n",
       "            fig.updated_canvas_event();\n",
       "            return;\n",
       "        }\n",
       "        else if (typeof evt.data === 'string' && evt.data.slice(0, 21) == \"data:image/png;base64\") {\n",
       "            fig.imageObj.src = evt.data;\n",
       "            fig.updated_canvas_event();\n",
       "            return;\n",
       "        }\n",
       "\n",
       "        var msg = JSON.parse(evt.data);\n",
       "        var msg_type = msg['type'];\n",
       "\n",
       "        // Call the  \"handle_{type}\" callback, which takes\n",
       "        // the figure and JSON message as its only arguments.\n",
       "        try {\n",
       "            var callback = fig[\"handle_\" + msg_type];\n",
       "        } catch (e) {\n",
       "            console.log(\"No handler for the '\" + msg_type + \"' message type: \", msg);\n",
       "            return;\n",
       "        }\n",
       "\n",
       "        if (callback) {\n",
       "            try {\n",
       "                // console.log(\"Handling '\" + msg_type + \"' message: \", msg);\n",
       "                callback(fig, msg);\n",
       "            } catch (e) {\n",
       "                console.log(\"Exception inside the 'handler_\" + msg_type + \"' callback:\", e, e.stack, msg);\n",
       "            }\n",
       "        }\n",
       "    };\n",
       "}\n",
       "\n",
       "// from http://stackoverflow.com/questions/1114465/getting-mouse-location-in-canvas\n",
       "mpl.findpos = function(e) {\n",
       "    //this section is from http://www.quirksmode.org/js/events_properties.html\n",
       "    var targ;\n",
       "    if (!e)\n",
       "        e = window.event;\n",
       "    if (e.target)\n",
       "        targ = e.target;\n",
       "    else if (e.srcElement)\n",
       "        targ = e.srcElement;\n",
       "    if (targ.nodeType == 3) // defeat Safari bug\n",
       "        targ = targ.parentNode;\n",
       "\n",
       "    // jQuery normalizes the pageX and pageY\n",
       "    // pageX,Y are the mouse positions relative to the document\n",
       "    // offset() returns the position of the element relative to the document\n",
       "    var x = e.pageX - $(targ).offset().left;\n",
       "    var y = e.pageY - $(targ).offset().top;\n",
       "\n",
       "    return {\"x\": x, \"y\": y};\n",
       "};\n",
       "\n",
       "mpl.figure.prototype.mouse_event = function(event, name) {\n",
       "    var canvas_pos = mpl.findpos(event)\n",
       "\n",
       "    if (name === 'button_press')\n",
       "    {\n",
       "        this.canvas.focus();\n",
       "        this.canvas_div.focus();\n",
       "    }\n",
       "\n",
       "    var x = canvas_pos.x;\n",
       "    var y = canvas_pos.y;\n",
       "\n",
       "    this.send_message(name, {x: x, y: y, button: event.button,\n",
       "                             step: event.step});\n",
       "\n",
       "    /* This prevents the web browser from automatically changing to\n",
       "     * the text insertion cursor when the button is pressed.  We want\n",
       "     * to control all of the cursor setting manually through the\n",
       "     * 'cursor' event from matplotlib */\n",
       "    event.preventDefault();\n",
       "    return false;\n",
       "}\n",
       "\n",
       "mpl.figure.prototype._key_event_extra = function(event, name) {\n",
       "    // Handle any extra behaviour associated with a key event\n",
       "}\n",
       "\n",
       "mpl.figure.prototype.key_event = function(event, name) {\n",
       "\n",
       "    // Prevent repeat events\n",
       "    if (name == 'key_press')\n",
       "    {\n",
       "        if (event.which === this._key)\n",
       "            return;\n",
       "        else\n",
       "            this._key = event.which;\n",
       "    }\n",
       "    if (name == 'key_release')\n",
       "        this._key = null;\n",
       "\n",
       "    var value = '';\n",
       "    if (event.ctrlKey && event.which != 17)\n",
       "        value += \"ctrl+\";\n",
       "    if (event.altKey && event.which != 18)\n",
       "        value += \"alt+\";\n",
       "    if (event.shiftKey && event.which != 16)\n",
       "        value += \"shift+\";\n",
       "\n",
       "    value += 'k';\n",
       "    value += event.which.toString();\n",
       "\n",
       "    this._key_event_extra(event, name);\n",
       "\n",
       "    this.send_message(name, {key: value});\n",
       "    return false;\n",
       "}\n",
       "\n",
       "mpl.figure.prototype.toolbar_button_onclick = function(name) {\n",
       "    if (name == 'download') {\n",
       "        this.handle_save(this, null);\n",
       "    } else {\n",
       "        this.send_message(\"toolbar_button\", {name: name});\n",
       "    }\n",
       "};\n",
       "\n",
       "mpl.figure.prototype.toolbar_button_onmouseover = function(tooltip) {\n",
       "    this.message.textContent = tooltip;\n",
       "};\n",
       "mpl.toolbar_items = [[\"Home\", \"Reset original view\", \"fa fa-home icon-home\", \"home\"], [\"Back\", \"Back to  previous view\", \"fa fa-arrow-left icon-arrow-left\", \"back\"], [\"Forward\", \"Forward to next view\", \"fa fa-arrow-right icon-arrow-right\", \"forward\"], [\"\", \"\", \"\", \"\"], [\"Pan\", \"Pan axes with left mouse, zoom with right\", \"fa fa-arrows icon-move\", \"pan\"], [\"Zoom\", \"Zoom to rectangle\", \"fa fa-square-o icon-check-empty\", \"zoom\"], [\"\", \"\", \"\", \"\"], [\"Download\", \"Download plot\", \"fa fa-floppy-o icon-save\", \"download\"]];\n",
       "\n",
       "mpl.extensions = [\"eps\", \"jpeg\", \"pdf\", \"png\", \"ps\", \"raw\", \"svg\", \"tif\"];\n",
       "\n",
       "mpl.default_extension = \"png\";var comm_websocket_adapter = function(comm) {\n",
       "    // Create a \"websocket\"-like object which calls the given IPython comm\n",
       "    // object with the appropriate methods. Currently this is a non binary\n",
       "    // socket, so there is still some room for performance tuning.\n",
       "    var ws = {};\n",
       "\n",
       "    ws.close = function() {\n",
       "        comm.close()\n",
       "    };\n",
       "    ws.send = function(m) {\n",
       "        //console.log('sending', m);\n",
       "        comm.send(m);\n",
       "    };\n",
       "    // Register the callback with on_msg.\n",
       "    comm.on_msg(function(msg) {\n",
       "        //console.log('receiving', msg['content']['data'], msg);\n",
       "        // Pass the mpl event to the overriden (by mpl) onmessage function.\n",
       "        ws.onmessage(msg['content']['data'])\n",
       "    });\n",
       "    return ws;\n",
       "}\n",
       "\n",
       "mpl.mpl_figure_comm = function(comm, msg) {\n",
       "    // This is the function which gets called when the mpl process\n",
       "    // starts-up an IPython Comm through the \"matplotlib\" channel.\n",
       "\n",
       "    var id = msg.content.data.id;\n",
       "    // Get hold of the div created by the display call when the Comm\n",
       "    // socket was opened in Python.\n",
       "    var element = $(\"#\" + id);\n",
       "    var ws_proxy = comm_websocket_adapter(comm)\n",
       "\n",
       "    function ondownload(figure, format) {\n",
       "        window.open(figure.imageObj.src);\n",
       "    }\n",
       "\n",
       "    var fig = new mpl.figure(id, ws_proxy,\n",
       "                           ondownload,\n",
       "                           element.get(0));\n",
       "\n",
       "    // Call onopen now - mpl needs it, as it is assuming we've passed it a real\n",
       "    // web socket which is closed, not our websocket->open comm proxy.\n",
       "    ws_proxy.onopen();\n",
       "\n",
       "    fig.parent_element = element.get(0);\n",
       "    fig.cell_info = mpl.find_output_cell(\"<div id='\" + id + \"'></div>\");\n",
       "    if (!fig.cell_info) {\n",
       "        console.error(\"Failed to find cell for figure\", id, fig);\n",
       "        return;\n",
       "    }\n",
       "\n",
       "    var output_index = fig.cell_info[2]\n",
       "    var cell = fig.cell_info[0];\n",
       "\n",
       "};\n",
       "\n",
       "mpl.figure.prototype.handle_close = function(fig, msg) {\n",
       "    // Update the output cell to use the data from the current canvas.\n",
       "    fig.push_to_output();\n",
       "    var dataURL = fig.canvas.toDataURL();\n",
       "    // Re-enable the keyboard manager in IPython - without this line, in FF,\n",
       "    // the notebook keyboard shortcuts fail.\n",
       "    IPython.keyboard_manager.enable()\n",
       "    $(fig.parent_element).html('<img src=\"' + dataURL + '\">');\n",
       "    fig.send_message('closing', {});\n",
       "    fig.ws.close()\n",
       "}\n",
       "\n",
       "mpl.figure.prototype.push_to_output = function(remove_interactive) {\n",
       "    // Turn the data on the canvas into data in the output cell.\n",
       "    var dataURL = this.canvas.toDataURL();\n",
       "    this.cell_info[1]['text/html'] = '<img src=\"' + dataURL + '\">';\n",
       "}\n",
       "\n",
       "mpl.figure.prototype.updated_canvas_event = function() {\n",
       "    // Tell IPython that the notebook contents must change.\n",
       "    IPython.notebook.set_dirty(true);\n",
       "    this.send_message(\"ack\", {});\n",
       "    var fig = this;\n",
       "    // Wait a second, then push the new image to the DOM so\n",
       "    // that it is saved nicely (might be nice to debounce this).\n",
       "    setTimeout(function () { fig.push_to_output() }, 1000);\n",
       "}\n",
       "\n",
       "mpl.figure.prototype._init_toolbar = function() {\n",
       "    var fig = this;\n",
       "\n",
       "    var nav_element = $('<div/>')\n",
       "    nav_element.attr('style', 'width: 100%');\n",
       "    this.root.append(nav_element);\n",
       "\n",
       "    // Define a callback function for later on.\n",
       "    function toolbar_event(event) {\n",
       "        return fig.toolbar_button_onclick(event['data']);\n",
       "    }\n",
       "    function toolbar_mouse_event(event) {\n",
       "        return fig.toolbar_button_onmouseover(event['data']);\n",
       "    }\n",
       "\n",
       "    for(var toolbar_ind in mpl.toolbar_items){\n",
       "        var name = mpl.toolbar_items[toolbar_ind][0];\n",
       "        var tooltip = mpl.toolbar_items[toolbar_ind][1];\n",
       "        var image = mpl.toolbar_items[toolbar_ind][2];\n",
       "        var method_name = mpl.toolbar_items[toolbar_ind][3];\n",
       "\n",
       "        if (!name) { continue; };\n",
       "\n",
       "        var button = $('<button class=\"btn btn-default\" href=\"#\" title=\"' + name + '\"><i class=\"fa ' + image + ' fa-lg\"></i></button>');\n",
       "        button.click(method_name, toolbar_event);\n",
       "        button.mouseover(tooltip, toolbar_mouse_event);\n",
       "        nav_element.append(button);\n",
       "    }\n",
       "\n",
       "    // Add the status bar.\n",
       "    var status_bar = $('<span class=\"mpl-message\" style=\"text-align:right; float: right;\"/>');\n",
       "    nav_element.append(status_bar);\n",
       "    this.message = status_bar[0];\n",
       "\n",
       "    // Add the close button to the window.\n",
       "    var buttongrp = $('<div class=\"btn-group inline pull-right\"></div>');\n",
       "    var button = $('<button class=\"btn btn-mini btn-danger\" href=\"#\" title=\"Close figure\"><i class=\"fa fa-times icon-remove icon-large\"></i></button>');\n",
       "    button.click(function (evt) { fig.handle_close(fig, {}); } );\n",
       "    button.mouseover('Close figure', toolbar_mouse_event);\n",
       "    buttongrp.append(button);\n",
       "    var titlebar = this.root.find($('.ui-dialog-titlebar'));\n",
       "    titlebar.prepend(buttongrp);\n",
       "}\n",
       "\n",
       "\n",
       "mpl.figure.prototype._canvas_extra_style = function(el){\n",
       "    // this is important to make the div 'focusable\n",
       "    el.attr('tabindex', 0)\n",
       "    // reach out to IPython and tell the keyboard manager to turn it's self\n",
       "    // off when our div gets focus\n",
       "\n",
       "    // location in version 3\n",
       "    if (IPython.notebook.keyboard_manager) {\n",
       "        IPython.notebook.keyboard_manager.register_events(el);\n",
       "    }\n",
       "    else {\n",
       "        // location in version 2\n",
       "        IPython.keyboard_manager.register_events(el);\n",
       "    }\n",
       "\n",
       "}\n",
       "\n",
       "mpl.figure.prototype._key_event_extra = function(event, name) {\n",
       "    var manager = IPython.notebook.keyboard_manager;\n",
       "    if (!manager)\n",
       "        manager = IPython.keyboard_manager;\n",
       "\n",
       "    // Check for shift+enter\n",
       "    if (event.shiftKey && event.which == 13) {\n",
       "        this.canvas_div.blur();\n",
       "        event.shiftKey = false;\n",
       "        // Send a \"J\" for go to next cell\n",
       "        event.which = 74;\n",
       "        event.keyCode = 74;\n",
       "        manager.command_mode();\n",
       "        manager.handle_keydown(event);\n",
       "    }\n",
       "}\n",
       "\n",
       "mpl.figure.prototype.handle_save = function(fig, msg) {\n",
       "    fig.ondownload(fig, null);\n",
       "}\n",
       "\n",
       "\n",
       "mpl.find_output_cell = function(html_output) {\n",
       "    // Return the cell and output element which can be found *uniquely* in the notebook.\n",
       "    // Note - this is a bit hacky, but it is done because the \"notebook_saving.Notebook\"\n",
       "    // IPython event is triggered only after the cells have been serialised, which for\n",
       "    // our purposes (turning an active figure into a static one), is too late.\n",
       "    var cells = IPython.notebook.get_cells();\n",
       "    var ncells = cells.length;\n",
       "    for (var i=0; i<ncells; i++) {\n",
       "        var cell = cells[i];\n",
       "        if (cell.cell_type === 'code'){\n",
       "            for (var j=0; j<cell.output_area.outputs.length; j++) {\n",
       "                var data = cell.output_area.outputs[j];\n",
       "                if (data.data) {\n",
       "                    // IPython >= 3 moved mimebundle to data attribute of output\n",
       "                    data = data.data;\n",
       "                }\n",
       "                if (data['text/html'] == html_output) {\n",
       "                    return [cell, data, j];\n",
       "                }\n",
       "            }\n",
       "        }\n",
       "    }\n",
       "}\n",
       "\n",
       "// Register the function which deals with the matplotlib target/channel.\n",
       "// The kernel may be null if the page has been refreshed.\n",
       "if (IPython.notebook.kernel != null) {\n",
       "    IPython.notebook.kernel.comm_manager.register_target('matplotlib', mpl.mpl_figure_comm);\n",
       "}\n"
      ],
      "text/plain": [
       "<IPython.core.display.Javascript object>"
      ]
     },
     "metadata": {},
     "output_type": "display_data"
    },
    {
     "data": {
      "text/html": [
       "<img src=\"data:image/png;base64,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\">"
      ],
      "text/plain": [
       "<IPython.core.display.HTML object>"
      ]
     },
     "metadata": {},
     "output_type": "display_data"
    },
    {
     "data": {
      "text/plain": [
       "<matplotlib.legend.Legend at 0x7f41c6f614d0>"
      ]
     },
     "execution_count": 104,
     "metadata": {},
     "output_type": "execute_result"
    }
   ],
   "source": [
    "%matplotlib nbagg\n",
    "plt.plot(y, label='y')\n",
    "plt.plot(yhat, label='yhat')\n",
    "plt.plot(yhat_int, label='yhat_int')\n",
    "plt.legend()"
   ]
  },
  {
   "cell_type": "code",
   "execution_count": 134,
   "metadata": {
    "collapsed": false
   },
   "outputs": [
    {
     "name": "stdout",
     "output_type": "stream",
     "text": [
      "yes\n"
     ]
    }
   ],
   "source": [
    "if X_int.design_info.column_name_indexes.get('Intercept') is not None: print 'yes'"
   ]
  },
  {
   "cell_type": "code",
   "execution_count": 127,
   "metadata": {
    "collapsed": false
   },
   "outputs": [
    {
     "data": {
      "text/plain": [
       "array([[  0.00000000e+00,   0.00000000e+00],\n",
       "       [  9.61617644e-01,   1.72287668e+00],\n",
       "       [  1.44073678e+00,   3.55919637e+00],\n",
       "       ..., \n",
       "       [  5.00204895e+02,   1.25927154e+03],\n",
       "       [  4.65040128e+02,   1.87224453e+03],\n",
       "       [  4.77629588e+02,   2.02241352e+03]])"
      ]
     },
     "execution_count": 127,
     "metadata": {},
     "output_type": "execute_result"
    }
   ],
   "source": [
    "np.delete(X_int, X_int.design_info.column_name_indexes['Intercept'], axis=1)"
   ]
  },
  {
   "cell_type": "code",
   "execution_count": null,
   "metadata": {
    "collapsed": true
   },
   "outputs": [],
   "source": [
    "lasso.nobs = Y[b, :].size\n",
    "lasso.coef = np.copy(lasso.coef_)\n",
    "lasso.coef[0] += lasso.intercept_\n",
    "lasso.fittedvalues = lasso.predict(X)\n",
    "lasso.rss = np.sum((Y[b, :] - lasso.fittedvalues) ** 2)\n",
    "lasso.rmse = math.sqrt(lasso.rss / lasso.nobs)"
   ]
  }
 ],
 "metadata": {
  "kernelspec": {
   "display_name": "Python 2",
   "language": "python",
   "name": "python2"
  },
  "language_info": {
   "codemirror_mode": {
    "name": "ipython",
    "version": 2
   },
   "file_extension": ".py",
   "mimetype": "text/x-python",
   "name": "python",
   "nbconvert_exporter": "python",
   "pygments_lexer": "ipython2",
   "version": "2.7.10"
  }
 },
 "nbformat": 4,
 "nbformat_minor": 0
}
