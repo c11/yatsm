{
 "cells": [
  {
   "cell_type": "markdown",
   "metadata": {},
   "source": [
    "# xray\n",
    "\n",
    "[Github](https://github.com/xray/xray)\n",
    "[ReadTheDocs](http://xray.readthedocs.org/)\n",
    "\n"
   ]
  },
  {
   "cell_type": "code",
   "execution_count": 9,
   "metadata": {
    "collapsed": false
   },
   "outputs": [],
   "source": [
    "# Read in cache data\n",
    "import numpy as np\n",
    "\n",
    "z = np.load('/home/ceholden/Documents/landsat_stack/p022r049/images/cache/yatsm_r100_n320_b8.npy.npz')\n",
    "image_IDs, Y = z['image_IDs'], z['Y']\n",
    "\n",
    "# Setup dimension names\n",
    "import pandas as pd\n",
    "\n",
    "band_names = ['Blue', 'Green', 'Red', 'NIR', 'SWIR1', 'SWIR2', 'Thermal', 'Mask']\n",
    "dates = pd.to_datetime([s[9:16] for s in image_IDs], format='%Y%j')\n",
    "cols = range(250)\n",
    "\n",
    "# Create dataset\n",
    "import xray\n",
    "dat = xray.DataArray(Y, [('bands', band_names), \n",
    "                         ('time', dates), \n",
    "                         ('col', cols)])"
   ]
  },
  {
   "cell_type": "code",
   "execution_count": 10,
   "metadata": {
    "collapsed": false
   },
   "outputs": [
    {
     "data": {
      "text/plain": [
       "<xray.DataArray (time: 320)>\n",
       "array([  279,   325,   349,   435,   375,   535,   342,   704,   570,\n",
       "         323,   237,   328,  1598,   410,   244,   196,   237,   279,\n",
       "         287,   254,   327,   305,   301,   457,   476,   480,   574,\n",
       "         941,   311,   278,   253,   243,   732,   238,   232,   217,\n",
       "         282,   217,   333,   362,   393,   315,  3121,   504,   605,\n",
       "         546,   387,   239,  1593,   252,   237,   256,   302,   199,\n",
       "         292,   352,   408,   503,   490,  2815,   917,   790,   300,\n",
       "        1482,  1010,   394,   882,   252,   226,   279,   256,   326,\n",
       "         354,   356,   355,   383,   469,   569,   389,   703,   530,\n",
       "         888,  1623,   362,   207,   283,   248,   201,   268,   242,\n",
       "         458,   909,   229,   439,  1419,   206,   214,   354,   552,\n",
       "         313,   303,   399,   334,   410,   683,   608,   287,  2203,\n",
       "         199,   678,   229,   379,   829,   205,   275,   229,   291,\n",
       "         219,   401,   319,   415,   369,   398,  1087,   407,   260,\n",
       "         193,   413,   197,   264,   334,   325,   305,   193,   238,\n",
       "         197,   450,   289,   292,   417,   568,   521,  1652, 16000,\n",
       "         272, 16000,   166,   609,   172,   260,   793,   475,   218,\n",
       "         366,   206,   368,   388,   475,   452,  1077,   320,   191,\n",
       "         146,   119,   238,   267,   391,   454, -9999,  1296, -9999,\n",
       "        1058,   183,   235,   183, -9999, -9999,   193,   328,   225,\n",
       "         342, -9999,   910,   803,   285, -9999,  3207,   241,   357,\n",
       "         204,   267,   180,   306,   187,   235,   275,   321,   364,\n",
       "       16000,   430,   453,   874,   163,   161,   226, 16000,   187,\n",
       "         177,   204,  1707,   309, -9999,   809,   647,   538,  1374,\n",
       "       -9999,   341,   540,   173,   254,   283,   288,   232,   227,\n",
       "         348,   388,   433,   659,   389,   267,   337, -9999,   321,\n",
       "         216, -9999,   296,   307,   454,   597,  1620,   363,   152,\n",
       "         388,   225,   215,   296, -9999,   416,   567, 16000,  1162,\n",
       "         245,   198,   164,   228,   252,   155,   230,   354,   443,\n",
       "         550,   256,   408,   584, -9999,   223,   218,   209,   303,\n",
       "         239,   366,   424,   455, -9999,   183,   288,   247,   321,\n",
       "         157,   235, -9999, -9999,   298,   354,   349,  2463,   551,\n",
       "       16000, 16000,   222,   560,  2640,   598,  1847,  2439,  3216,\n",
       "         126,   135,   119,   167,   128,  2601,   289,   274,   118,\n",
       "         321,   177,   281,   219,   421,   228,   215,   214,   240,\n",
       "         250,  5376,   138,   145,  1605], dtype=int16)\n",
       "Coordinates:\n",
       "    bands    |S4 'Blue'\n",
       "  * time     (time) datetime64[ns] 1993-01-09 1993-01-25 1993-02-10 ...\n",
       "    col      int64 100"
      ]
     },
     "execution_count": 10,
     "metadata": {},
     "output_type": "execute_result"
    }
   ],
   "source": [
    "dat.sel(bands='Blue').sel(col=100)"
   ]
  }
 ],
 "metadata": {
  "kernelspec": {
   "display_name": "Python 2",
   "language": "python",
   "name": "python2"
  },
  "language_info": {
   "codemirror_mode": {
    "name": "ipython",
    "version": 2
   },
   "file_extension": ".py",
   "mimetype": "text/x-python",
   "name": "python",
   "nbconvert_exporter": "python",
   "pygments_lexer": "ipython2",
   "version": "2.7.10"
  }
 },
 "nbformat": 4,
 "nbformat_minor": 0
}
